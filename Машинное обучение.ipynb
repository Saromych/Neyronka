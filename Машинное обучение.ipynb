{
 "cells": [
  {
   "cell_type": "code",
   "execution_count": 1,
   "id": "8301720f",
   "metadata": {},
   "outputs": [
    {
     "name": "stdout",
     "output_type": "stream",
     "text": [
      "Средняя точность для 2-fold перекрестной проверки: 0.94\n",
      "Средняя точность для 3-fold перекрестной проверки: 0.98\n",
      "Средняя точность для 5-fold перекрестной проверки: 0.9733333333333334\n",
      "Средняя точность для 10-fold перекрестной проверки: 0.9666666666666668\n"
     ]
    }
   ],
   "source": [
    "from sklearn.datasets import load_iris\n",
    "from sklearn.model_selection import cross_val_score\n",
    "from sklearn.neighbors import KNeighborsClassifier\n",
    "\n",
    "# Загрузка датасета Ирисы\n",
    "iris = load_iris()\n",
    "X = iris.data\n",
    "y = iris.target\n",
    "\n",
    "# Создание kNN классификатора\n",
    "knn = KNeighborsClassifier()\n",
    "\n",
    "# Список параметров разбиения выборки для перекрестной проверки\n",
    "split_params = [2, 3, 5, 10]\n",
    "\n",
    "# Перекрестная проверка с разными параметрами разбиения выборки\n",
    "for split_param in split_params:\n",
    "    scores = cross_val_score(knn, X, y, cv=split_param)\n",
    "    print(f'Средняя точность для {split_param}-fold перекрестной проверки: {scores.mean()}')\n"
   ]
  },
  {
   "cell_type": "code",
   "execution_count": null,
   "id": "5e371868",
   "metadata": {},
   "outputs": [],
   "source": []
  }
 ],
 "metadata": {
  "kernelspec": {
   "display_name": "Python 3 (ipykernel)",
   "language": "python",
   "name": "python3"
  },
  "language_info": {
   "codemirror_mode": {
    "name": "ipython",
    "version": 3
   },
   "file_extension": ".py",
   "mimetype": "text/x-python",
   "name": "python",
   "nbconvert_exporter": "python",
   "pygments_lexer": "ipython3",
   "version": "3.10.9"
  }
 },
 "nbformat": 4,
 "nbformat_minor": 5
}
