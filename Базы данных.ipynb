{
 "cells": [
  {
   "cell_type": "markdown",
   "id": "191147f1",
   "metadata": {},
   "source": [
    "## Упражнение 1"
   ]
  },
  {
   "cell_type": "code",
   "execution_count": 2,
   "id": "5348110a",
   "metadata": {},
   "outputs": [
    {
     "ename": "SyntaxError",
     "evalue": "invalid syntax (1488143757.py, line 2)",
     "output_type": "error",
     "traceback": [
      "\u001b[1;36m  Cell \u001b[1;32mIn[2], line 2\u001b[1;36m\u001b[0m\n\u001b[1;33m    CREATE TABLE Books (\u001b[0m\n\u001b[1;37m           ^\u001b[0m\n\u001b[1;31mSyntaxError\u001b[0m\u001b[1;31m:\u001b[0m invalid syntax\n"
     ]
    }
   ],
   "source": [
    "#Создание таблицы Books\n",
    "CREATE TABLE Books (\n",
    "    id INT PRIMARY KEY,\n",
    "    author VARCHAR(100),\n",
    "    title VARCHAR(100),\n",
    "    publish_year INT\n",
    ");\n",
    "\n",
    "#Заполнение таблицы Books\n",
    "INSERT INTO Books (id, author, title, publish_year) VALUES\n",
    "(1, 'Федор Достоевский', 'Преступление и наказание', 1866),\n",
    "(2, 'Лев Толстой', 'Война и мир', 1869),\n",
    "(3, 'Александр Пушкин', 'Евгений Онегин', 1833);\n",
    "\n",
    "#Создание таблицы Readers\n",
    "CREATE TABLE Readers (\n",
    "    id INT PRIMARY KEY,\n",
    "    name VARCHAR(100)\n",
    ");\n",
    "\n",
    "#Заполнение таблицы Readers\n",
    "INSERT INTO Readers (id, name) VALUES\n",
    "(1, 'Иван Иванов'),\n",
    "(2, 'Петр Петров'),\n",
    "(3, 'Мария Сидорова');\n",
    "\n",
    "#Создание таблицы Records\n",
    "CREATE TABLE Records (\n",
    "    reader_id INT,\n",
    "    book_id INT,\n",
    "    taking_date DATE,\n",
    "    returning_date DATE,\n",
    "    FOREIGN KEY (reader_id) REFERENCES Readers(id),\n",
    "    FOREIGN KEY (book_id) REFERENCES Books(id)\n",
    ");\n",
    "\n",
    "#Заполнение таблицы Records\n",
    "INSERT INTO Records (reader_id, book_id, taking_date, returning_date) VALUES\n",
    "(1, 1, '2022-01-15', '2022-02-10'),\n",
    "(2, 2, '2022-02-01', '2022-03-05'),\n",
    "(3, 3, '2022-03-10', '2022-04-15');\n"
   ]
  },
  {
   "cell_type": "markdown",
   "id": "72dde7c2",
   "metadata": {},
   "source": [
    "## Упражнение 2"
   ]
  },
  {
   "cell_type": "code",
   "execution_count": null,
   "id": "347fe47b",
   "metadata": {},
   "outputs": [],
   "source": [
    "#1\n",
    "SELECT id, название_книги\n",
    "FROM выдачи\n",
    "WHERE дата_возврата IS NULL;\n",
    "\n",
    "#2\n",
    "SELECT читатель.имя AS имя_читателя, книги.название AS название_книги\n",
    "FROM выдачи\n",
    "JOIN читатель ON выдачи.id_читателя = читатель.id\n",
    "JOIN книги ON выдачи.id_книги = книги.id;\n",
    "\n",
    "#3\n",
    "SELECT автор, COUNT(*) AS количество_книг\n",
    "FROM книги\n",
    "GROUP BY автор;\n"
   ]
  }
 ],
 "metadata": {
  "kernelspec": {
   "display_name": "Python 3 (ipykernel)",
   "language": "python",
   "name": "python3"
  },
  "language_info": {
   "codemirror_mode": {
    "name": "ipython",
    "version": 3
   },
   "file_extension": ".py",
   "mimetype": "text/x-python",
   "name": "python",
   "nbconvert_exporter": "python",
   "pygments_lexer": "ipython3",
   "version": "3.10.9"
  }
 },
 "nbformat": 4,
 "nbformat_minor": 5
}
